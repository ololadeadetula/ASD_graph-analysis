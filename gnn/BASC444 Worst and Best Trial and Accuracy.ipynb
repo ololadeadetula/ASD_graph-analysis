{
 "cells": [
  {
   "cell_type": "code",
   "execution_count": 2,
   "id": "72679c06-fc9d-4ce5-8114-1b6ec8209c60",
   "metadata": {},
   "outputs": [
    {
     "name": "stdout",
     "output_type": "stream",
     "text": [
      "Best trial index: 405\n",
      "Best accuracy: 0.7386363636363636\n",
      "Worst trial index: 247\n",
      "Worst accuracy: 0.3522727272727273\n"
     ]
    }
   ],
   "source": [
    "import numpy as np\n",
    "\n",
    "# Load data\n",
    "x = np.load('./BASC-444_correlation_correlation.npy')  # shape: (871, 444, 444)\n",
    "y = np.load('./Y.npy')  # shape: (871,)\n",
    "\n",
    "accuracy_vector = np.load(\"./accuracy_vector_basc444(500t-corr).npy\")\n",
    "selected_indices = np.load(\"./selected_indices_basc444(500t-corr).npy\")\n",
    "\n",
    "top_n = 500\n",
    "\n",
    "# Find the index of the best trial (maximum accuracy)\n",
    "best_trial_index = np.argmax(accuracy_vector)\n",
    "best_selected_indices = selected_indices[:top_n, best_trial_index]\n",
    "\n",
    "# Find the index of the worst trial (minimum accuracy)\n",
    "worst_trial_index = np.argmin(accuracy_vector)\n",
    "worst_selected_indices = selected_indices[:top_n, worst_trial_index]\n",
    "\n",
    "# Print the results\n",
    "print(\"Best trial index:\", best_trial_index)\n",
    "print(\"Best accuracy:\", accuracy_vector[best_trial_index])\n",
    "#print(\"Best selected indices:\", best_selected_indices)\n",
    "\n",
    "print(\"Worst trial index:\", worst_trial_index)\n",
    "print(\"Worst accuracy:\", accuracy_vector[worst_trial_index])\n",
    "#print(\"Worst selected indices:\", worst_selected_indices)"
   ]
  },
  {
   "cell_type": "code",
   "execution_count": 3,
   "id": "4f9c0f59-2788-4da3-a1e3-59c6d6afd73c",
   "metadata": {},
   "outputs": [
    {
     "name": "stdout",
     "output_type": "stream",
     "text": [
      "Best trial index: 313\n",
      "Best accuracy: 0.6931818181818182\n",
      "Worst trial index: 410\n",
      "Worst accuracy: 0.38636363636363635\n"
     ]
    }
   ],
   "source": [
    "import numpy as np\n",
    "\n",
    "# Load data\n",
    "x = np.load('./BASC-444_correlation_correlation.npy')  # shape: (871, 444, 444)\n",
    "y = np.load('./Y.npy')  # shape: (871,)\n",
    "\n",
    "accuracy_vector = np.load(\"./accuracy_vector_basc444(500t-partial).npy\")\n",
    "selected_indices = np.load(\"./selected_indices_basc444(500t-partial).npy\")\n",
    "\n",
    "top_n = 500\n",
    "\n",
    "# Find the index of the best trial (maximum accuracy)\n",
    "best_trial_index = np.argmax(accuracy_vector)\n",
    "best_selected_indices = selected_indices[:top_n, best_trial_index]\n",
    "\n",
    "# Find the index of the worst trial (minimum accuracy)\n",
    "worst_trial_index = np.argmin(accuracy_vector)\n",
    "worst_selected_indices = selected_indices[:top_n, worst_trial_index]\n",
    "\n",
    "# Print the results\n",
    "print(\"Best trial index:\", best_trial_index)\n",
    "print(\"Best accuracy:\", accuracy_vector[best_trial_index])\n",
    "#print(\"Best selected indices:\", best_selected_indices)\n",
    "\n",
    "print(\"Worst trial index:\", worst_trial_index)\n",
    "print(\"Worst accuracy:\", accuracy_vector[worst_trial_index])\n",
    "#print(\"Worst selected indices:\", worst_selected_indices)\n"
   ]
  },
  {
   "cell_type": "code",
   "execution_count": 4,
   "id": "84ed5ff2-f44e-4cfa-a2fd-01247e1d3611",
   "metadata": {},
   "outputs": [
    {
     "name": "stdout",
     "output_type": "stream",
     "text": [
      "Best trial index: 43\n",
      "Best accuracy: 0.7045454545454546\n",
      "Worst trial index: 4\n",
      "Worst accuracy: 0.375\n"
     ]
    }
   ],
   "source": [
    "import numpy as np\n",
    "\n",
    "# Load data\n",
    "x = np.load('./BASC-444_correlation_correlation.npy')  # shape: (871, 444, 444)\n",
    "y = np.load('./Y.npy')  # shape: (871,)\n",
    "\n",
    "accuracy_vector = np.load(\"./accuracy_vector_basc444(500t-tangent).npy\")\n",
    "selected_indices = np.load(\"./selected_indices_basc444(500t-tangent).npy\")\n",
    "\n",
    "top_n = 500\n",
    "\n",
    "# Find the index of the best trial (maximum accuracy)\n",
    "best_trial_index = np.argmax(accuracy_vector)\n",
    "best_selected_indices = selected_indices[:top_n, best_trial_index]\n",
    "\n",
    "# Find the index of the worst trial (minimum accuracy)\n",
    "worst_trial_index = np.argmin(accuracy_vector)\n",
    "worst_selected_indices = selected_indices[:top_n, worst_trial_index]\n",
    "\n",
    "# Print the results\n",
    "print(\"Best trial index:\", best_trial_index)\n",
    "print(\"Best accuracy:\", accuracy_vector[best_trial_index])\n",
    "#print(\"Best selected indices:\", best_selected_indices)\n",
    "\n",
    "print(\"Worst trial index:\", worst_trial_index)\n",
    "print(\"Worst accuracy:\", accuracy_vector[worst_trial_index])\n",
    "#print(\"Worst selected indices:\", worst_selected_indices)\n"
   ]
  },
  {
   "cell_type": "code",
   "execution_count": null,
   "id": "a1473590-1e6a-4e48-ba97-a72dae64272c",
   "metadata": {},
   "outputs": [],
   "source": []
  }
 ],
 "metadata": {
  "kernelspec": {
   "display_name": "Python 3 (ipykernel)",
   "language": "python",
   "name": "python3"
  },
  "language_info": {
   "codemirror_mode": {
    "name": "ipython",
    "version": 3
   },
   "file_extension": ".py",
   "mimetype": "text/x-python",
   "name": "python",
   "nbconvert_exporter": "python",
   "pygments_lexer": "ipython3",
   "version": "3.11.7"
  }
 },
 "nbformat": 4,
 "nbformat_minor": 5
}
